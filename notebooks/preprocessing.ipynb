{
 "cells": [
  {
   "cell_type": "markdown",
   "metadata": {},
   "source": [
    "# Data Preprocessing for EthioMart Amharic NER System\n",
    "\n",
    "This notebook outlines the steps taken to preprocess the raw Telegram messages collected for the EthioMart Amharic Named Entity Recognition (NER) project. The preprocessing steps include data cleaning, normalization, and preparation for labeling.\n"
   ]
  },
  {
   "cell_type": "code",
   "execution_count": 1,
   "metadata": {},
   "outputs": [
    {
     "data": {
      "text/html": [
       "<div>\n",
       "<style scoped>\n",
       "    .dataframe tbody tr th:only-of-type {\n",
       "        vertical-align: middle;\n",
       "    }\n",
       "\n",
       "    .dataframe tbody tr th {\n",
       "        vertical-align: top;\n",
       "    }\n",
       "\n",
       "    .dataframe thead th {\n",
       "        text-align: right;\n",
       "    }\n",
       "</style>\n",
       "<table border=\"1\" class=\"dataframe\">\n",
       "  <thead>\n",
       "    <tr style=\"text-align: right;\">\n",
       "      <th></th>\n",
       "      <th>sender</th>\n",
       "      <th>timestamp</th>\n",
       "      <th>text</th>\n",
       "    </tr>\n",
       "  </thead>\n",
       "  <tbody>\n",
       "    <tr>\n",
       "      <th>0</th>\n",
       "      <td>-1.001200e+12</td>\n",
       "      <td>2024-09-28 07:32:14+00:00</td>\n",
       "      <td>💥 Smart Mini Massager Patch \\r\\n        💯High ...</td>\n",
       "    </tr>\n",
       "    <tr>\n",
       "      <th>1</th>\n",
       "      <td>-1.001200e+12</td>\n",
       "      <td>2024-09-28 07:23:17+00:00</td>\n",
       "      <td>💥 Smart Mini Massager Patch \\r\\n        💯High ...</td>\n",
       "    </tr>\n",
       "    <tr>\n",
       "      <th>2</th>\n",
       "      <td>-1.001200e+12</td>\n",
       "      <td>2024-09-27 07:12:34+00:00</td>\n",
       "      <td>💥ለመላዉ የክርስትና እምንነት ተከታይ ደንበኞቻችን በሙሉ እንኳን ለብርሃነ...</td>\n",
       "    </tr>\n",
       "    <tr>\n",
       "      <th>3</th>\n",
       "      <td>-1.001200e+12</td>\n",
       "      <td>2024-09-26 09:20:40+00:00</td>\n",
       "      <td>💥SOKANY 3 in1 Blender /Grinder\\r\\n\\r\\nየጁስ የቡና ...</td>\n",
       "    </tr>\n",
       "    <tr>\n",
       "      <th>4</th>\n",
       "      <td>-1.001200e+12</td>\n",
       "      <td>2024-09-25 16:09:48+00:00</td>\n",
       "      <td>#አልቆል_ለተባላችሁ_በድጋሚ_አስገብተናል \\r\\n📣 IMPULSE SEALER...</td>\n",
       "    </tr>\n",
       "  </tbody>\n",
       "</table>\n",
       "</div>"
      ],
      "text/plain": [
       "         sender                  timestamp  \\\n",
       "0 -1.001200e+12  2024-09-28 07:32:14+00:00   \n",
       "1 -1.001200e+12  2024-09-28 07:23:17+00:00   \n",
       "2 -1.001200e+12  2024-09-27 07:12:34+00:00   \n",
       "3 -1.001200e+12  2024-09-26 09:20:40+00:00   \n",
       "4 -1.001200e+12  2024-09-25 16:09:48+00:00   \n",
       "\n",
       "                                                text  \n",
       "0  💥 Smart Mini Massager Patch \\r\\n        💯High ...  \n",
       "1  💥 Smart Mini Massager Patch \\r\\n        💯High ...  \n",
       "2  💥ለመላዉ የክርስትና እምንነት ተከታይ ደንበኞቻችን በሙሉ እንኳን ለብርሃነ...  \n",
       "3  💥SOKANY 3 in1 Blender /Grinder\\r\\n\\r\\nየጁስ የቡና ...  \n",
       "4  #አልቆል_ለተባላችሁ_በድጋሚ_አስገብተናል \\r\\n📣 IMPULSE SEALER...  "
      ]
     },
     "execution_count": 1,
     "metadata": {},
     "output_type": "execute_result"
    }
   ],
   "source": [
    "# Import necessary libraries\n",
    "import pandas as pd\n",
    "import re\n",
    "\n",
    "# Load the raw data\n",
    "df = pd.read_csv('../data/raw/telegram_messages.csv')\n",
    "\n",
    "# Display the first few rows of the raw data\n",
    "df.head()"
   ]
  },
  {
   "cell_type": "markdown",
   "metadata": {},
   "source": [
    "## Data Cleaning Function\n",
    "\n",
    "The following function will be used to clean and normalize the text data.\n"
   ]
  },
  {
   "cell_type": "code",
   "execution_count": 2,
   "metadata": {},
   "outputs": [],
   "source": [
    "# Define a function to clean and normalize text\n",
    "def preprocess_text(text):\n",
    "    # Remove special characters and punctuation\n",
    "    text = re.sub(r'[^\\w\\s]', '', text)\n",
    "    # Replace multiple spaces with a single space\n",
    "    text = re.sub(r'\\s+', ' ', text)\n",
    "    # Strip leading and trailing whitespace\n",
    "    return text.strip()\n"
   ]
  },
  {
   "cell_type": "markdown",
   "metadata": {},
   "source": [
    "## Applying Preprocessing\n",
    "\n",
    "Now we will apply the `preprocess_text` function to the 'text' column of our DataFrame and create a new column for the cleaned text.\n"
   ]
  },
  {
   "cell_type": "code",
   "execution_count": 3,
   "metadata": {},
   "outputs": [
    {
     "data": {
      "text/html": [
       "<div>\n",
       "<style scoped>\n",
       "    .dataframe tbody tr th:only-of-type {\n",
       "        vertical-align: middle;\n",
       "    }\n",
       "\n",
       "    .dataframe tbody tr th {\n",
       "        vertical-align: top;\n",
       "    }\n",
       "\n",
       "    .dataframe thead th {\n",
       "        text-align: right;\n",
       "    }\n",
       "</style>\n",
       "<table border=\"1\" class=\"dataframe\">\n",
       "  <thead>\n",
       "    <tr style=\"text-align: right;\">\n",
       "      <th></th>\n",
       "      <th>text</th>\n",
       "      <th>cleaned_text</th>\n",
       "    </tr>\n",
       "  </thead>\n",
       "  <tbody>\n",
       "    <tr>\n",
       "      <th>0</th>\n",
       "      <td>💥 Smart Mini Massager Patch \\r\\n        💯High ...</td>\n",
       "      <td>Smart Mini Massager Patch High Quality አንገትጀርባ...</td>\n",
       "    </tr>\n",
       "    <tr>\n",
       "      <th>1</th>\n",
       "      <td>💥 Smart Mini Massager Patch \\r\\n        💯High ...</td>\n",
       "      <td>Smart Mini Massager Patch High Quality አንገትጀርባ...</td>\n",
       "    </tr>\n",
       "    <tr>\n",
       "      <th>2</th>\n",
       "      <td>💥ለመላዉ የክርስትና እምንነት ተከታይ ደንበኞቻችን በሙሉ እንኳን ለብርሃነ...</td>\n",
       "      <td>ለመላዉ የክርስትና እምንነት ተከታይ ደንበኞቻችን በሙሉ እንኳን ለብርሃነ ...</td>\n",
       "    </tr>\n",
       "    <tr>\n",
       "      <th>3</th>\n",
       "      <td>💥SOKANY 3 in1 Blender /Grinder\\r\\n\\r\\nየጁስ የቡና ...</td>\n",
       "      <td>SOKANY 3 in1 Blender Grinder የጁስ የቡና የቅመም መፍጫ ...</td>\n",
       "    </tr>\n",
       "    <tr>\n",
       "      <th>4</th>\n",
       "      <td>#አልቆል_ለተባላችሁ_በድጋሚ_አስገብተናል \\r\\n📣 IMPULSE SEALER...</td>\n",
       "      <td>አልቆል_ለተባላችሁ_በድጋሚ_አስገብተናል IMPULSE SEALER የላስቲክ ...</td>\n",
       "    </tr>\n",
       "  </tbody>\n",
       "</table>\n",
       "</div>"
      ],
      "text/plain": [
       "                                                text  \\\n",
       "0  💥 Smart Mini Massager Patch \\r\\n        💯High ...   \n",
       "1  💥 Smart Mini Massager Patch \\r\\n        💯High ...   \n",
       "2  💥ለመላዉ የክርስትና እምንነት ተከታይ ደንበኞቻችን በሙሉ እንኳን ለብርሃነ...   \n",
       "3  💥SOKANY 3 in1 Blender /Grinder\\r\\n\\r\\nየጁስ የቡና ...   \n",
       "4  #አልቆል_ለተባላችሁ_በድጋሚ_አስገብተናል \\r\\n📣 IMPULSE SEALER...   \n",
       "\n",
       "                                        cleaned_text  \n",
       "0  Smart Mini Massager Patch High Quality አንገትጀርባ...  \n",
       "1  Smart Mini Massager Patch High Quality አንገትጀርባ...  \n",
       "2  ለመላዉ የክርስትና እምንነት ተከታይ ደንበኞቻችን በሙሉ እንኳን ለብርሃነ ...  \n",
       "3  SOKANY 3 in1 Blender Grinder የጁስ የቡና የቅመም መፍጫ ...  \n",
       "4  አልቆል_ለተባላችሁ_በድጋሚ_አስገብተናል IMPULSE SEALER የላስቲክ ...  "
      ]
     },
     "execution_count": 3,
     "metadata": {},
     "output_type": "execute_result"
    }
   ],
   "source": [
    "# Apply preprocessing to the 'text' column\n",
    "df['cleaned_text'] = df['text'].apply(preprocess_text)\n",
    "\n",
    "# Display the first few rows of the cleaned data\n",
    "df[['text', 'cleaned_text']].head()\n"
   ]
  },
  {
   "cell_type": "markdown",
   "metadata": {},
   "source": [
    "## Saving Preprocessed Data\n",
    "\n",
    "The cleaned data will be saved for further processing in the labeling step.\n"
   ]
  },
  {
   "cell_type": "code",
   "execution_count": 4,
   "metadata": {},
   "outputs": [
    {
     "name": "stdout",
     "output_type": "stream",
     "text": [
      "Preprocessed data saved to data/processed/preprocessed_telegram_messages.csv\n"
     ]
    }
   ],
   "source": [
    "# Save the cleaned data to a new CSV file\n",
    "df.to_csv('../data/processed/preprocessed_telegram_messages.csv', index=False)\n",
    "\n",
    "print(\"Preprocessed data saved to data/processed/preprocessed_telegram_messages.csv\")\n"
   ]
  }
 ],
 "metadata": {
  "kernelspec": {
   "display_name": "venv",
   "language": "python",
   "name": "python3"
  },
  "language_info": {
   "codemirror_mode": {
    "name": "ipython",
    "version": 3
   },
   "file_extension": ".py",
   "mimetype": "text/x-python",
   "name": "python",
   "nbconvert_exporter": "python",
   "pygments_lexer": "ipython3",
   "version": "3.12.0"
  }
 },
 "nbformat": 4,
 "nbformat_minor": 2
}
