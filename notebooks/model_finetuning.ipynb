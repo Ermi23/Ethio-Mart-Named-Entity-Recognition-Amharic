{
 "cells": [
  {
   "cell_type": "markdown",
   "metadata": {},
   "source": [
    "# Model Fine-Tuning for EthioMart Amharic NER System\n",
    "\n",
    "This notebook describes the fine-tuning process for the DistilBERT model to perform Named Entity Recognition (NER) on Amharic text. The fine-tuning is conducted using the labeled dataset created from the Telegram messages.\n"
   ]
  },
  {
   "cell_type": "code",
   "execution_count": 1,
   "metadata": {},
   "outputs": [
    {
     "name": "stderr",
     "output_type": "stream",
     "text": [
      "c:\\Users\\ermias.tadesse\\10x\\EthioMart_NER_Amharic\\venv\\Lib\\site-packages\\tqdm\\auto.py:21: TqdmWarning: IProgress not found. Please update jupyter and ipywidgets. See https://ipywidgets.readthedocs.io/en/stable/user_install.html\n",
      "  from .autonotebook import tqdm as notebook_tqdm\n",
      "Generating train split: 5046 examples [00:00, 99359.45 examples/s]\n"
     ]
    }
   ],
   "source": [
    "# Import necessary libraries\n",
    "import pandas as pd\n",
    "import numpy as np\n",
    "from datasets import load_dataset\n",
    "from transformers import AutoModelForTokenClassification, AutoTokenizer, TrainingArguments, Trainer\n",
    "from evaluate import load  # For evaluation metrics\n",
    "import shap  # For model interpretability\n",
    "\n",
    "# Load the labeled dataset (CoNLL format)\n",
    "data_files = {\"train\": \"../data/labels/ner_labels.txt\"}\n",
    "dataset = load_dataset(\"text\", data_files=data_files, split='train')\n"
   ]
  },
  {
   "cell_type": "markdown",
   "metadata": {},
   "source": [
    "## Tokenization\n",
    "\n",
    "We will initialize the tokenizer and model, and create a tokenization function to prepare our data for training.\n"
   ]
  },
  {
   "cell_type": "code",
   "execution_count": 2,
   "metadata": {},
   "outputs": [
    {
     "name": "stderr",
     "output_type": "stream",
     "text": [
      "c:\\Users\\ermias.tadesse\\10x\\EthioMart_NER_Amharic\\venv\\Lib\\site-packages\\transformers\\tokenization_utils_base.py:1617: FutureWarning: `clean_up_tokenization_spaces` was not set. It will be set to `True` by default. This behavior will be deprecated in transformers v4.45, and will be then set to `False` by default. For more details check this issue: https://github.com/huggingface/transformers/issues/31884\n",
      "  warnings.warn(\n",
      "Some weights of DistilBertForTokenClassification were not initialized from the model checkpoint at distilbert-base-multilingual-cased and are newly initialized: ['classifier.bias', 'classifier.weight']\n",
      "You should probably TRAIN this model on a down-stream task to be able to use it for predictions and inference.\n",
      "Map: 100%|██████████| 5046/5046 [00:01<00:00, 4957.75 examples/s]\n"
     ]
    }
   ],
   "source": [
    "# Tokenizer and model\n",
    "model_name = \"distilbert-base-multilingual-cased\"  # You can also use \"bert-tiny-amharic\"\n",
    "tokenizer = AutoTokenizer.from_pretrained(model_name)\n",
    "model = AutoModelForTokenClassification.from_pretrained(model_name, num_labels=4)  # Adjust based on your entities\n",
    "\n",
    "# Tokenization function with label alignment\n",
    "def tokenize_and_align_labels(examples):\n",
    "    tokenized_inputs = tokenizer(\n",
    "        examples['text'], \n",
    "        padding='max_length',\n",
    "        truncation=True, \n",
    "        max_length=512, \n",
    "        is_split_into_words=True  # To make sure labels are aligned with tokens\n",
    "    )\n",
    "    \n",
    "    labels = []\n",
    "    for i, label in enumerate(examples['labels']):\n",
    "        word_ids = tokenized_inputs.word_ids(batch_index=i)  # Map tokens back to their word\n",
    "        previous_word_idx = None\n",
    "        label_ids = []\n",
    "        for word_idx in word_ids:\n",
    "            # Special tokens will be given a label of -100 (ignored by the model)\n",
    "            if word_idx is None:\n",
    "                label_ids.append(-100)\n",
    "            elif word_idx != previous_word_idx:\n",
    "                label_ids.append(label[word_idx])\n",
    "            else:\n",
    "                # For subword tokens, we assign the same label as the first token in the word\n",
    "                label_ids.append(label[word_idx] if label_all_tokens else -100)\n",
    "            previous_word_idx = word_idx\n",
    "        labels.append(label_ids)\n",
    "\n",
    "    tokenized_inputs[\"labels\"] = labels  # Add labels to tokenized inputs\n",
    "    return tokenized_inputs\n",
    "\n",
    "# Pass the Labels During Training: Ensure that the dataset you pass to the Trainer contains both input_ids, attention_mask, and labels. If your dataset has already been tokenized, the Trainer will compute the loss using the labels.\n",
    "# Tokenize dataset and align labels\n",
    "tokenized_dataset = dataset.map(tokenize_and_align_labels, batched=True)\n",
    "# Make Sure the Model is Configured for Token Classification: Ensure you are using a model for token classification. For instance:\n",
    "\n",
    "model_name = \"distilbert-base-multilingual-cased\"\n",
    "model = AutoModelForTokenClassification.from_pretrained(model_name, num_labels=len(label_list))  # Set num_labels to the number of classes in your dataset\n"
   ]
  },
  {
   "cell_type": "markdown",
   "metadata": {},
   "source": [
    "## Training the Model\n",
    "\n",
    "Set up the training arguments and initialize the Trainer to fine-tune the model.\n"
   ]
  },
  {
   "cell_type": "code",
   "execution_count": null,
   "metadata": {},
   "outputs": [],
   "source": [
    "# Training arguments\n",
    "training_args = TrainingArguments(\n",
    "    output_dir=\"./results\",\n",
    "    evaluation_strategy=\"epoch\",  # Evaluate after every epoch\n",
    "    learning_rate=2e-5,\n",
    "    per_device_train_batch_size=16,\n",
    "    per_device_eval_batch_size=16,\n",
    "    num_train_epochs=3,\n",
    "    weight_decay=0.01,\n",
    ")\n",
    "\n",
    "# Initialize the Trainer\n",
    "trainer = Trainer(\n",
    "    model=model,\n",
    "    args=training_args,\n",
    "    train_dataset=tokenized_dataset,\n",
    ")\n",
    "\n",
    "# Fine-tune the model\n",
    "trainer.train()\n",
    "\n",
    "# Save the fine-tuned model\n",
    "trainer.save_model(\"../models/fine-tuned/\")\n"
   ]
  },
  {
   "cell_type": "markdown",
   "metadata": {},
   "source": [
    "## Model Evaluation\n",
    "\n",
    "After fine-tuning, we will evaluate the model's performance using F1-score, precision, and recall metrics.\n"
   ]
  },
  {
   "cell_type": "code",
   "execution_count": null,
   "metadata": {},
   "outputs": [],
   "source": [
    "# Load evaluation metrics\n",
    "metric = load(\"seqeval\")  # Updated to use the `evaluate` library\n",
    "\n",
    "# Function to align predictions with actual labels\n",
    "def align_predictions(predictions, label_ids):\n",
    "    preds = np.argmax(predictions, axis=-1)\n",
    "    \n",
    "    # Convert predictions and labels from indices to actual entity labels\n",
    "    pred_labels = [[id2label[p] for p in pred] for pred in preds]\n",
    "    true_labels = [[id2label[l] for l in label] for l in label_ids]\n",
    "    \n",
    "    return pred_labels, true_labels\n",
    "\n",
    "# Evaluate the fine-tuned model\n",
    "predictions, label_ids, metrics = trainer.predict(tokenized_dataset)\n",
    "preds, labels = align_predictions(predictions, label_ids)\n",
    "\n",
    "# Compute evaluation metrics (F1-score, precision, recall)\n",
    "results = metric.compute(predictions=preds, references=labels)\n",
    "print(\"Evaluation Results:\", results)\n",
    "\n",
    "# Save evaluation metrics\n",
    "with open(\"../models/fine-tuned/evaluation_results.txt\", \"w\") as f:\n",
    "    f.write(str(results))\n"
   ]
  },
  {
   "cell_type": "markdown",
   "metadata": {},
   "source": [
    "## Model Interpretability with SHAP\n",
    "\n",
    "Finally, we will use SHAP to interpret the model's predictions and understand which tokens influenced its decisions.\n"
   ]
  },
  {
   "cell_type": "code",
   "execution_count": null,
   "metadata": {},
   "outputs": [],
   "source": [
    "# SHAP interpretability\n",
    "explainer = shap.Explainer(model, tokenized_dataset)\n",
    "\n",
    "# Compute SHAP values for a few examples\n",
    "shap_values = explainer(tokenized_dataset[:10])\n",
    "\n",
    "# Plot SHAP values\n",
    "shap.plots.text(shap_values)\n"
   ]
  }
 ],
 "metadata": {
  "kernelspec": {
   "display_name": "venv",
   "language": "python",
   "name": "python3"
  },
  "language_info": {
   "codemirror_mode": {
    "name": "ipython",
    "version": 3
   },
   "file_extension": ".py",
   "mimetype": "text/x-python",
   "name": "python",
   "nbconvert_exporter": "python",
   "pygments_lexer": "ipython3",
   "version": "3.12.0"
  }
 },
 "nbformat": 4,
 "nbformat_minor": 2
}
